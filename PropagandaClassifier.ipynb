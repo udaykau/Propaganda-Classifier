{
 "cells": [
  {
   "cell_type": "markdown",
   "id": "f3f6107b-2e99-46f0-95e3-eb5f669c527d",
   "metadata": {},
   "source": [
    "## Importing required libraries"
   ]
  },
  {
   "cell_type": "code",
   "execution_count": 1,
   "id": "73e28aaa-2d34-4961-afcc-a5223881629a",
   "metadata": {
    "tags": []
   },
   "outputs": [
    {
     "name": "stderr",
     "output_type": "stream",
     "text": [
      "[nltk_data] Downloading package stopwords to\n",
      "[nltk_data]     C:\\Users\\uk42\\AppData\\Roaming\\nltk_data...\n",
      "[nltk_data]   Package stopwords is already up-to-date!\n",
      "[nltk_data] Downloading package punkt to\n",
      "[nltk_data]     C:\\Users\\uk42\\AppData\\Roaming\\nltk_data...\n",
      "[nltk_data]   Package punkt is already up-to-date!\n"
     ]
    },
    {
     "data": {
      "text/plain": [
       "True"
      ]
     },
     "execution_count": 1,
     "metadata": {},
     "output_type": "execute_result"
    }
   ],
   "source": [
    "import pandas as pd\n",
    "from sklearn.feature_extraction.text import TfidfVectorizer\n",
    "from sklearn.linear_model import LogisticRegression\n",
    "from sklearn.model_selection import train_test_split\n",
    "from sklearn.preprocessing import LabelEncoder\n",
    "import re\n",
    "from nltk.tokenize import word_tokenize\n",
    "import nltk\n",
    "from transformers import BertTokenizer, BertForSequenceClassification, BertModel\n",
    "import torch\n",
    "from torch.optim import Adam\n",
    "from torch.utils.data import DataLoader, TensorDataset\n",
    "from sklearn.metrics import accuracy_score, precision_recall_fscore_support, classification_report\n",
    "from tqdm import tqdm\n",
    "import torch.nn as nn\n",
    "import warnings\n",
    "import matplotlib.pyplot as plt\n",
    "\n",
    "# ignoring all the future warnings\n",
    "warnings.simplefilter(action='ignore', category=FutureWarning)\n",
    "\n",
    "# Download NLTK resources\n",
    "nltk.download('stopwords')\n",
    "nltk.download('punkt')\n"
   ]
  },
  {
   "cell_type": "markdown",
   "id": "ddc685a1-35ac-4be1-96aa-2a1cdbc7f54e",
   "metadata": {},
   "source": [
    "# Task 1: Sentence contain Propagada or not"
   ]
  },
  {
   "cell_type": "markdown",
   "id": "66038e1b-f369-4774-ab9d-f00be67c7381",
   "metadata": {},
   "source": [
    "## Preprocessing text"
   ]
  },
  {
   "cell_type": "code",
   "execution_count": 2,
   "id": "00ff5864-494e-4a63-9ab8-694397f80ae8",
   "metadata": {
    "tags": []
   },
   "outputs": [],
   "source": [
    "def preprocess_text(text):\n",
    "    # Remove <BOS> and <EOS> tokens\n",
    "    text = text.replace(\"<BOS>\", \"\").replace(\"<EOS>\", \"\")\n",
    "    # Remove punctuation and special characters\n",
    "    text = re.sub(r\"[^\\w\\s]\", \"\", text)\n",
    "    # Lowercase the text\n",
    "    text = text.lower()\n",
    "    return text"
   ]
  },
  {
   "cell_type": "markdown",
   "id": "520ac33d-70b2-499d-8412-bb4aa7c764ec",
   "metadata": {},
   "source": [
    "## Loading and Preprocessing Data"
   ]
  },
  {
   "cell_type": "code",
   "execution_count": 3,
   "id": "51549726-7806-42ba-a69c-b2dfa9c2fd33",
   "metadata": {
    "tags": []
   },
   "outputs": [],
   "source": [
    "# Load data\n",
    "train_data = pd.read_csv('propaganda_train.tsv', sep='\\t')\n",
    "test_data = pd.read_csv('propaganda_val.tsv', sep=\"\\t\")\n",
    "\n",
    "# Changing the column names\n",
    "train_data.columns = [\"label\", \"sentence\"]\n",
    "test_data.columns = [\"label\", \"sentence\"]"
   ]
  },
  {
   "cell_type": "markdown",
   "id": "7983e9f1-d027-42fc-97e1-d17d40a274cf",
   "metadata": {},
   "source": [
    "## Appraoch 1: Bag of words classifier"
   ]
  },
  {
   "cell_type": "code",
   "execution_count": 4,
   "id": "07b024fc-5d86-401d-a2d5-c39a6cc1296a",
   "metadata": {
    "tags": []
   },
   "outputs": [
    {
     "name": "stdout",
     "output_type": "stream",
     "text": [
      "                precision    recall  f1-score   support\n",
      "\n",
      "not propaganda       0.70      0.68      0.69       301\n",
      "    propaganda       0.67      0.69      0.68       279\n",
      "\n",
      "      accuracy                           0.69       580\n",
      "     macro avg       0.69      0.69      0.69       580\n",
      "  weighted avg       0.69      0.69      0.69       580\n",
      "\n"
     ]
    }
   ],
   "source": [
    "# Changing all the 'label' name to 'propaganda' other than 'not propaganda'\n",
    "train_data['propaganda'] = train_data['label'].apply(lambda x: \"propaganda\" if x != 'not_propaganda' else \"not propaganda\")\n",
    "test_data['propaganda'] = test_data['label'].apply(lambda x: \"propaganda\" if x != 'not_propaganda' else \"not propaganda\")\n",
    "\n",
    "train_data['processed_sentence'] = train_data['sentence'].apply(preprocess_text)\n",
    "test_data['processed_sentence'] = test_data['sentence'].apply(preprocess_text)\n",
    "\n",
    "train_data['tokenized_sentence'] = train_data['processed_sentence'].apply(word_tokenize)\n",
    "test_data['tokenized_sentence'] = test_data['processed_sentence'].apply(word_tokenize)\n",
    "\n",
    "tfidf_vectorizer = TfidfVectorizer(max_features=800) #Adjust max_features as needed\n",
    "X_train = tfidf_vectorizer.fit_transform(train_data['processed_sentence'])\n",
    "X_test = tfidf_vectorizer.transform(test_data['processed_sentence'])\n",
    "\n",
    "# Label encoding\n",
    "label_encoder = LabelEncoder()\n",
    "y_train = label_encoder.fit_transform(train_data['propaganda'])\n",
    "y_test = label_encoder.transform(test_data['propaganda'])\n",
    "\n",
    "# Train the classifier\n",
    "classifier = LogisticRegression()\n",
    "classifier.fit(X_train, y_train)\n",
    "\n",
    "# Predictions on the testing set\n",
    "test_predictions = classifier.predict(X_test)\n",
    "\n",
    "# Evaluate the classifier\n",
    "accuracy = accuracy_score(y_test, test_predictions)\n",
    "report = classification_report(y_test, test_predictions, target_names=label_encoder.classes_)\n",
    "print(report)"
   ]
  },
  {
   "cell_type": "markdown",
   "id": "64e634be-1a32-4008-9016-072baa77da6d",
   "metadata": {},
   "source": [
    "## Approach 2: Pretrained large language model"
   ]
  },
  {
   "cell_type": "markdown",
   "id": "0bc55675-98e5-4d47-8f52-0fe819ae79da",
   "metadata": {
    "tags": []
   },
   "source": [
    "## BERT Classifier Model Definition"
   ]
  },
  {
   "cell_type": "code",
   "execution_count": 5,
   "id": "184dd30d-b50f-45aa-bc9d-8ca7d5eaff0d",
   "metadata": {
    "tags": []
   },
   "outputs": [],
   "source": [
    "class BertClassifier(nn.Module):\n",
    "    \n",
    "    def __init__(self, dropout=0.5, num_classes=2):\n",
    "        super(BertClassifier, self).__init__()\n",
    "        self.bert = BertModel.from_pretrained('bert-base-uncased')\n",
    "        self.dropout = nn.Dropout(dropout)\n",
    "        self.linear = nn.Linear(768, num_classes)\n",
    "        self.relu = nn.ReLU()\n",
    "        \n",
    "    def forward(self, input_ids, attention_mask=None, **kwargs):\n",
    "        last_hidden_layer, pooled_output = self.bert(input_ids=input_ids, attention_mask=attention_mask, return_dict=False)\n",
    "        dropout_output = self.dropout(pooled_output)\n",
    "        linear_output = self.linear(dropout_output)\n",
    "        final_layer = self.relu(linear_output)\n",
    "        return final_layer"
   ]
  },
  {
   "cell_type": "markdown",
   "id": "624c739e-5f8e-4819-8a5f-c35737fba2df",
   "metadata": {},
   "source": [
    "## Preparing Data and Labels for BERT Classification"
   ]
  },
  {
   "cell_type": "code",
   "execution_count": 6,
   "id": "b6de6129-2f69-404f-b02c-3adb551c43e5",
   "metadata": {
    "tags": []
   },
   "outputs": [],
   "source": [
    "# Preprocessing text\n",
    "train_data['processed_sentence'] = train_data['sentence'].apply(preprocess_text)\n",
    "test_data['processed_sentence'] = test_data['sentence'].apply(preprocess_text)\n",
    "\n",
    "# Changing all the 'label' name to 'propaganda' other than 'not propaganda'\n",
    "train_data['propaganda'] = train_data['label'].apply(lambda x: \"propaganda\" if x != 'not_propaganda' else \"not propaganda\")\n",
    "test_data['propaganda'] = test_data['label'].apply(lambda x: \"propaganda\" if x != 'not_propaganda' else \"not propaganda\")\n",
    "\n",
    "tokenizer = BertTokenizer.from_pretrained('bert-base-uncased')\n",
    "X_train = tokenizer(list(train_data['processed_sentence']), padding=True, truncation=True, return_tensors='pt', max_length=128)\n",
    "X_test = tokenizer(list(test_data['processed_sentence']), padding=True, truncation=True, return_tensors='pt', max_length=128)\n",
    "\n",
    "label_encoder = LabelEncoder()\n",
    "train_data['propaganda'] = label_encoder.fit_transform(train_data['propaganda'])\n",
    "test_data['propaganda'] = label_encoder.transform(test_data['propaganda'])\n",
    "y_train = torch.tensor(train_data['propaganda'], dtype=torch.long)\n",
    "y_test = torch.tensor(test_data['propaganda'], dtype=torch.long)\n",
    "\n",
    "train_dataset = TensorDataset(X_train['input_ids'], X_train['attention_mask'], y_train)\n",
    "test_dataset = TensorDataset(X_test['input_ids'], X_test['attention_mask'], y_test)\n"
   ]
  },
  {
   "cell_type": "markdown",
   "id": "bab8f2ef-5143-449b-91c9-31de4af2c4f9",
   "metadata": {},
   "source": [
    "## Training and Evaluating BERT Classifier"
   ]
  },
  {
   "cell_type": "code",
   "execution_count": 7,
   "id": "947687df-c081-4fbb-ad88-85a7501d0f01",
   "metadata": {
    "tags": []
   },
   "outputs": [],
   "source": [
    "def prepare_inputs(input_ids, attention_mask, labels, device):\n",
    "    input_ids, attention_mask, labels = input_ids.to(device), attention_mask.to(device), labels.to(device)\n",
    "    return input_ids, attention_mask, labels\n",
    "\n",
    "def train_and_evaluate(model, train_data, val_data, learning_rate, epochs):\n",
    "    use_cuda = torch.cuda.is_available()\n",
    "    device = torch.device(\"cuda\" if use_cuda else \"cpu\")\n",
    "    model.to(device)\n",
    "    optimizer = Adam(model.parameters(), lr=learning_rate)\n",
    "    criterion = nn.CrossEntropyLoss()\n",
    "    train_batch_size = 2\n",
    "    test_batch_size = 4\n",
    "    for epoch_num in range(epochs):\n",
    "        total_acc_train = 0\n",
    "        total_loss_train = 0\n",
    "        model.train()\n",
    "        train_dataloader = DataLoader(train_data, batch_size=train_batch_size, shuffle=True)\n",
    "        for batch in tqdm(train_dataloader):\n",
    "            input_ids, attention_mask, labels = batch\n",
    "            input_ids, attention_mask, labels = prepare_inputs(input_ids, attention_mask, labels, device)\n",
    "            optimizer.zero_grad()\n",
    "            outputs = model(input_ids, attention_mask=attention_mask)\n",
    "            loss = criterion(outputs, labels)\n",
    "            loss.backward()\n",
    "            optimizer.step()\n",
    "            total_loss_train += loss.item()\n",
    "            _, predicted = torch.max(outputs, 1)\n",
    "            total_acc_train += (predicted == labels).sum().item()\n",
    "\n",
    "        total_acc_val = 0\n",
    "        total_loss_val = 0\n",
    "        model.eval()\n",
    "        val_dataloader = DataLoader(val_data, batch_size=test_batch_size)\n",
    "        true_labels = []\n",
    "        predictions = []\n",
    "        with torch.no_grad():\n",
    "            for batch in tqdm(val_dataloader):\n",
    "                input_ids, attention_mask, labels = batch\n",
    "                input_ids, attention_mask, labels = prepare_inputs(input_ids, attention_mask, labels, device)\n",
    "                outputs = model(input_ids, attention_mask=attention_mask)\n",
    "                loss = criterion(outputs, labels)\n",
    "                total_loss_val += loss.item()\n",
    "                _, predicted = torch.max(outputs, 1)\n",
    "                total_acc_val += (predicted == labels).sum().item()\n",
    "                true_labels.extend(labels.tolist())\n",
    "                predictions.extend(predicted.tolist())\n",
    "\n",
    "        accuracy = accuracy_score(true_labels, predictions)\n",
    "        precision, recall, f1, _ = precision_recall_fscore_support(true_labels, predictions, average='binary', zero_division=1)\n",
    "        report = classification_report(true_labels, predictions) \n",
    "        print(f'Epochs: {epoch_num + 1} | Train Loss: {total_loss_train / len(train_data):.3f} | Train Accuracy: {total_acc_train / len(train_data):.3f}')\n",
    "        print(f'Val loss: {total_loss_val / len(val_data):.3f} | Val Accuracy: {total_acc_val / len(val_data):.3f}')\n",
    "        print(\"BERT Classifier Accuracy:\", accuracy)\n",
    "        print(report)\n",
    "        # Append metrics for plotting\n",
    "        train_losses.append(total_loss_train / len(train_data))\n",
    "        train_accuracies.append(total_acc_train / len(train_data))\n",
    "        val_losses.append(total_loss_val / len(val_data))\n",
    "        val_accuracies.append(total_acc_val / len(val_data))"
   ]
  },
  {
   "cell_type": "markdown",
   "id": "fc3013ab-4d8c-4b25-9e52-1d2afba887ae",
   "metadata": {},
   "source": [
    "## Training BERT Classifier"
   ]
  },
  {
   "cell_type": "code",
   "execution_count": 8,
   "id": "a5181702-74a0-4105-a8e8-08e2e9444b60",
   "metadata": {
    "tags": []
   },
   "outputs": [
    {
     "name": "stderr",
     "output_type": "stream",
     "text": [
      "100%|██████████| 1207/1207 [01:05<00:00, 18.37it/s]\n",
      "100%|██████████| 145/145 [00:02<00:00, 63.41it/s]\n"
     ]
    },
    {
     "name": "stdout",
     "output_type": "stream",
     "text": [
      "Epochs: 1 | Train Loss: 0.293 | Train Accuracy: 0.692\n",
      "Val loss: 0.151 | Val Accuracy: 0.674\n",
      "BERT Classifier Accuracy: 0.6741379310344827\n",
      "              precision    recall  f1-score   support\n",
      "\n",
      "           0       0.83      0.47      0.60       301\n",
      "           1       0.61      0.89      0.72       279\n",
      "\n",
      "    accuracy                           0.67       580\n",
      "   macro avg       0.72      0.68      0.66       580\n",
      "weighted avg       0.72      0.67      0.66       580\n",
      "\n"
     ]
    },
    {
     "name": "stderr",
     "output_type": "stream",
     "text": [
      "100%|██████████| 1207/1207 [01:03<00:00, 18.93it/s]\n",
      "100%|██████████| 145/145 [00:02<00:00, 63.14it/s]"
     ]
    },
    {
     "name": "stdout",
     "output_type": "stream",
     "text": [
      "Epochs: 2 | Train Loss: 0.203 | Train Accuracy: 0.822\n",
      "Val loss: 0.126 | Val Accuracy: 0.772\n",
      "BERT Classifier Accuracy: 0.7724137931034483\n",
      "              precision    recall  f1-score   support\n",
      "\n",
      "           0       0.76      0.81      0.79       301\n",
      "           1       0.78      0.73      0.75       279\n",
      "\n",
      "    accuracy                           0.77       580\n",
      "   macro avg       0.77      0.77      0.77       580\n",
      "weighted avg       0.77      0.77      0.77       580\n",
      "\n"
     ]
    },
    {
     "name": "stderr",
     "output_type": "stream",
     "text": [
      "\n"
     ]
    }
   ],
   "source": [
    "train_losses = []\n",
    "train_accuracies = []\n",
    "val_losses = []\n",
    "val_accuracies = []\n",
    "\n",
    "# Initialize BERT Classifier\n",
    "classifier = BertClassifier(num_classes=len(label_encoder.classes_))\n",
    "num_epochs = 2\n",
    "learning_rates = 1e-5\n",
    "\n",
    "# Train the model\n",
    "train_and_evaluate(classifier, train_dataset, test_dataset, learning_rate=learning_rates, epochs=num_epochs)"
   ]
  },
  {
   "cell_type": "markdown",
   "id": "8d0df806-a600-474e-9cfa-88f96433569b",
   "metadata": {
    "tags": []
   },
   "source": [
    "## Plotting Training and Validation Metrics"
   ]
  },
  {
   "cell_type": "code",
   "execution_count": 9,
   "id": "ca2d5dc2-e4a5-49c6-941b-36d16f7f3870",
   "metadata": {
    "tags": []
   },
   "outputs": [
    {
     "data": {
      "image/png": "[encoded data removed]",
      "text/plain": [
       "<Figure size 1200x600 with 2 Axes>"
      ]
     },
     "metadata": {},
     "output_type": "display_data"
    }
   ],
   "source": [
    "# Plotting\n",
    "plt.figure(figsize=(12, 6))\n",
    "# Loss plot\n",
    "plt.subplot(1, 2, 1)\n",
    "plt.plot(range(1, num_epochs + 1), train_losses, label='Train Loss')\n",
    "plt.plot(range(1, num_epochs + 1), val_losses, label='Validation Loss')\n",
    "plt.xlabel('Epochs')\n",
    "plt.ylabel('Loss')\n",
    "plt.title('Training and Validation Loss')\n",
    "plt.legend()\n",
    "\n",
    "# Accuracy plot\n",
    "plt.subplot(1, 2, 2)\n",
    "plt.plot(range(1, num_epochs + 1), train_accuracies, label='Train Accuracy')\n",
    "plt.plot(range(1, num_epochs + 1), val_accuracies, label='Validation Accuracy')\n",
    "plt.xlabel('Epochs')\n",
    "plt.ylabel('Accuracy')\n",
    "plt.title('Training and Validation Accuracy')\n",
    "plt.legend()\n",
    "\n",
    "plt.tight_layout()\n",
    "plt.show()\n"
   ]
  },
  {
   "cell_type": "markdown",
   "id": "62c338c6",
   "metadata": {},
   "source": [
    "# Task 2: Propaganda Snippet"
   ]
  },
  {
   "cell_type": "markdown",
   "id": "cfb84236-1f3f-495b-92d3-177b7778d646",
   "metadata": {
    "tags": []
   },
   "source": [
    "## Preprocessing text"
   ]
  },
  {
   "cell_type": "code",
   "execution_count": 10,
   "id": "49814b05-aded-43e7-bb03-39dad064ef83",
   "metadata": {
    "tags": []
   },
   "outputs": [],
   "source": [
    "def preprocess_text(text):\n",
    "    # Extract text within <BOS> and <EOS> tokens\n",
    "    match = re.search(r'<BOS>(.*?)<EOS>', text)\n",
    "    if match:\n",
    "        extracted_text = match.group(1)\n",
    "    else:\n",
    "        extracted_text = text\n",
    "    # Remove punctuation and special characters\n",
    "    extracted_text = re.sub(r\"[^\\w\\s]\", \"\", extracted_text)\n",
    "    # Lowercase the text\n",
    "    extracted_text = extracted_text.lower()\n",
    "    return extracted_text"
   ]
  },
  {
   "cell_type": "markdown",
   "id": "610ae0e9-2a90-4530-8201-35b8a9d5666e",
   "metadata": {},
   "source": [
    "## Loading and Preprocessing Data"
   ]
  },
  {
   "cell_type": "code",
   "execution_count": 11,
   "id": "4232cffb-b900-4668-893e-7150867e9580",
   "metadata": {},
   "outputs": [],
   "source": [
    "# Load data\n",
    "train_data = pd.read_csv('propaganda_train.tsv', sep='\\t')\n",
    "test_data = pd.read_csv('propaganda_val.tsv', sep=\"\\t\")\n",
    "\n",
    "# Changing the column names\n",
    "train_data.columns = [\"label\", \"sentence\"]\n",
    "test_data.columns = [\"label\", \"sentence\"]"
   ]
  },
  {
   "cell_type": "markdown",
   "id": "e938949b-b1dc-4b99-b427-ca448faa55ed",
   "metadata": {},
   "source": [
    "## Appraoch 1: Bag of words classifier"
   ]
  },
  {
   "cell_type": "code",
   "execution_count": 12,
   "id": "e8bf6c7d",
   "metadata": {
    "tags": []
   },
   "outputs": [
    {
     "name": "stdout",
     "output_type": "stream",
     "text": [
      "                           precision    recall  f1-score   support\n",
      "\n",
      " appeal_to_fear_prejudice       0.54      0.49      0.51        43\n",
      "causal_oversimplification       0.30      0.52      0.38        31\n",
      "                    doubt       0.44      0.39      0.42        38\n",
      "exaggeration,minimisation       0.36      0.32      0.34        28\n",
      "              flag_waving       0.75      0.62      0.68        39\n",
      "          loaded_language       0.44      0.62      0.52        37\n",
      "    name_calling,labeling       0.52      0.39      0.44        31\n",
      "               repetition       0.60      0.38      0.46        32\n",
      "\n",
      "                 accuracy                           0.47       279\n",
      "                macro avg       0.49      0.46      0.47       279\n",
      "             weighted avg       0.50      0.47      0.48       279\n",
      "\n"
     ]
    }
   ],
   "source": [
    "# Drop rows where 'label' field is 'not_propaganda'\n",
    "train_data = train_data[train_data['label'] != 'not_propaganda']\n",
    "test_data = test_data[test_data['label'] != 'not_propaganda']\n",
    "\n",
    "train_data['processed_sentence'] = train_data['sentence'].apply(preprocess_text)\n",
    "test_data['processed_sentence'] = test_data['sentence'].apply(preprocess_text)\n",
    "\n",
    "train_data['tokenized_sentence'] = train_data['processed_sentence'].apply(word_tokenize)\n",
    "test_data['tokenized_sentence'] = test_data['processed_sentence'].apply(word_tokenize)\n",
    "\n",
    "tfidf_vectorizer = TfidfVectorizer(max_features=2000)  # Adjust max_features as needed\n",
    "X_train = tfidf_vectorizer.fit_transform(train_data['processed_sentence'])\n",
    "X_test = tfidf_vectorizer.transform(test_data['processed_sentence'])\n",
    "\n",
    "# Label encoding\n",
    "label_encoder = LabelEncoder()\n",
    "y_train = label_encoder.fit_transform(train_data['label'])\n",
    "y_test = label_encoder.transform(test_data['label'])\n",
    "\n",
    "# Train the classifier\n",
    "classifier = LogisticRegression()\n",
    "classifier.fit(X_train, y_train)\n",
    "\n",
    "# Predictions on the testing set\n",
    "test_predictions = classifier.predict(X_test)\n",
    "\n",
    "# Evaluate the classifier\n",
    "accuracy = accuracy_score(y_test, test_predictions)\n",
    "report = classification_report(y_test, test_predictions, target_names=label_encoder.classes_)\n",
    "print(report)"
   ]
  },
  {
   "cell_type": "markdown",
   "id": "a85a36fd-1f8b-4f85-b95f-4ee2cbd8d71b",
   "metadata": {},
   "source": [
    "## Approach 2: Pretrained large language model"
   ]
  },
  {
   "cell_type": "markdown",
   "id": "2f3bbd53-b641-42ea-a3bd-3e90c7d710aa",
   "metadata": {},
   "source": [
    "## BERT Classifier Model Definition"
   ]
  },
  {
   "cell_type": "code",
   "execution_count": 13,
   "id": "0845733c-1727-4294-a7b6-3ff9a24b698c",
   "metadata": {
    "tags": []
   },
   "outputs": [],
   "source": [
    "class BertClassifier(nn.Module):\n",
    "    \n",
    "    def __init__(self, dropout=0.5, num_classes=2):\n",
    "        super(BertClassifier, self).__init__()\n",
    "        self.bert = BertModel.from_pretrained('bert-base-uncased')\n",
    "        self.dropout = nn.Dropout(dropout)\n",
    "        self.linear = nn.Linear(768, num_classes)\n",
    "        self.relu = nn.ReLU()\n",
    "        \n",
    "    def forward(self, input_ids, attention_mask=None, **kwargs):\n",
    "        last_hidden_layer, pooled_output = self.bert(input_ids=input_ids, attention_mask=attention_mask, return_dict=False)\n",
    "        dropout_output = self.dropout(pooled_output)\n",
    "        linear_output = self.linear(dropout_output)\n",
    "        final_layer = self.relu(linear_output)\n",
    "        return final_layer"
   ]
  },
  {
   "cell_type": "markdown",
   "id": "a3fa3111-9de1-4d93-93de-0aa68cc9013a",
   "metadata": {},
   "source": [
    "## Preparing Data and Labels for BERT Classification"
   ]
  },
  {
   "cell_type": "code",
   "execution_count": 17,
   "id": "5cfda16e-2914-489d-8af4-15d9f32f1531",
   "metadata": {
    "tags": []
   },
   "outputs": [],
   "source": [
    "# Preprocessing text\n",
    "train_data['processed_sentence'] = train_data['sentence'].apply(preprocess_text)\n",
    "test_data['processed_sentence'] = test_data['sentence'].apply(preprocess_text)\n",
    "\n",
    "# Drop rows where 'label' field is 'not_propaganda'\n",
    "train_data = train_data[train_data['label'] != 'not_propaganda']\n",
    "test_data = test_data[test_data['label'] != 'not_propaganda']\n",
    "\n",
    "# Tokenize and encode the text data\n",
    "tokenizer = BertTokenizer.from_pretrained('bert-base-uncased')\n",
    "X_train = tokenizer(list(train_data['processed_sentence']), padding=True, truncation=True, return_tensors='pt', max_length=128)\n",
    "X_test = tokenizer(list(test_data['processed_sentence']), padding=True, truncation=True, return_tensors='pt', max_length=128)\n",
    "\n",
    "# Encode labels\n",
    "label_encoder = LabelEncoder()\n",
    "train_data['encoded_label'] = label_encoder.fit_transform(train_data['label'])\n",
    "test_data['encoded_label'] = label_encoder.transform(test_data['label'])\n",
    "\n",
    "# Convert labels to tensor\n",
    "train_labels_tensor = torch.tensor(train_data['encoded_label'].values, dtype=torch.long)\n",
    "test_labels_tensor = torch.tensor(test_data['encoded_label'].values, dtype=torch.long)\n",
    "\n",
    "# Create DataLoader for training and testing data\n",
    "train_dataset = TensorDataset(X_train['input_ids'], X_train['attention_mask'], train_labels_tensor)\n",
    "test_dataset = TensorDataset(X_test['input_ids'], X_test['attention_mask'], test_labels_tensor)"
   ]
  },
  {
   "cell_type": "markdown",
   "id": "3f5f858b-f9b3-4201-89d8-378f4884d860",
   "metadata": {},
   "source": [
    "## Training and Evaluating BERT Classifier"
   ]
  },
  {
   "cell_type": "code",
   "execution_count": 18,
   "id": "82475b1d-ac58-410f-9a03-afafda6d4953",
   "metadata": {
    "tags": []
   },
   "outputs": [],
   "source": [
    "def prepare_inputs(input_ids, attention_mask, labels, device):\n",
    "    input_ids, attention_mask, labels = input_ids.to(device), attention_mask.to(device), labels.to(device)\n",
    "    return input_ids, attention_mask, labels\n",
    "\n",
    "# Train and evaluate function\n",
    "def train_and_evaluate(model, train_data, val_data, learning_rate, epochs):\n",
    "    use_cuda = torch.cuda.is_available()\n",
    "    device = torch.device(\"cuda\" if use_cuda else \"cpu\")\n",
    "    model.to(device)\n",
    "    optimizer = Adam(model.parameters(), lr=learning_rate)\n",
    "    criterion = nn.CrossEntropyLoss()\n",
    "\n",
    "    for epoch_num in range(epochs):\n",
    "        total_acc_train = 0\n",
    "        total_loss_train = 0\n",
    "        model.train()\n",
    "        train_dataloader = DataLoader(train_data, batch_size=4, shuffle=True)\n",
    "        for batch in tqdm(train_dataloader):\n",
    "            input_ids, attention_mask, labels = batch\n",
    "            input_ids, attention_mask, labels = prepare_inputs(input_ids, attention_mask, labels, device)\n",
    "\n",
    "            optimizer.zero_grad()\n",
    "            outputs = model(input_ids, attention_mask=attention_mask)\n",
    "            loss = criterion(outputs, labels)\n",
    "            loss.backward()\n",
    "            optimizer.step()\n",
    "\n",
    "            total_loss_train += loss.item()\n",
    "            _, predicted = torch.max(outputs, 1)\n",
    "            total_acc_train += (predicted == labels).sum().item()\n",
    "\n",
    "        total_acc_val = 0\n",
    "        total_loss_val = 0\n",
    "        model.eval()\n",
    "        val_dataloader = DataLoader(val_data, batch_size=2)\n",
    "        true_labels = []\n",
    "        predictions = []\n",
    "        with torch.no_grad():\n",
    "            for batch in tqdm(val_dataloader):\n",
    "                input_ids, attention_mask, labels = batch\n",
    "                input_ids, attention_mask, labels = prepare_inputs(input_ids, attention_mask, labels, device)\n",
    "\n",
    "                outputs = model(input_ids, attention_mask=attention_mask)\n",
    "                loss = criterion(outputs, labels)\n",
    "\n",
    "                total_loss_val += loss.item()\n",
    "                _, predicted = torch.max(outputs, 1)\n",
    "                total_acc_val += (predicted == labels).sum().item()\n",
    "\n",
    "                true_labels.extend(labels.tolist())\n",
    "                predictions.extend(predicted.tolist())\n",
    "\n",
    "        # Calculate evaluation metrics\n",
    "        accuracy = accuracy_score(true_labels, predictions)\n",
    "        precision, recall, f1, _ = precision_recall_fscore_support(true_labels, predictions, average='weighted', zero_division=1)\n",
    "        report = classification_report(true_labels, predictions) \n",
    "        print(f'Epochs: {epoch_num + 1} | Train Loss: {total_loss_train / len(train_data):.3f} | Train Accuracy: {total_acc_train / len(train_data):.3f}')\n",
    "        print(f'Val loss: {total_loss_val / len(val_data):.3f} | Val Accuracy: {total_acc_val / len(val_data):.3f}')\n",
    "        print(\"BERT Classifier Accuracy:\", accuracy)\n",
    "        print(report)\n",
    "        # Append metrics for plotting\n",
    "        train_losses.append(total_loss_train / len(train_data))\n",
    "        train_accuracies.append(total_acc_train / len(train_data))\n",
    "        val_losses.append(total_loss_val / len(val_data))\n",
    "        val_accuracies.append(total_acc_val / len(val_data))"
   ]
  },
  {
   "cell_type": "markdown",
   "id": "27434fcd-45b5-43b3-8966-76ed1d81ed04",
   "metadata": {},
   "source": [
    "## Training BERT Classifier"
   ]
  },
  {
   "cell_type": "code",
   "execution_count": 19,
   "id": "ed37422f-947a-4a27-8b07-3d89c0e2e408",
   "metadata": {
    "tags": []
   },
   "outputs": [
    {
     "name": "stderr",
     "output_type": "stream",
     "text": [
      "100%|██████████| 306/306 [00:18<00:00, 16.20it/s]\n",
      "100%|██████████| 140/140 [00:01<00:00, 91.00it/s]\n",
      "C:\\ProgramData\\anaconda3\\Lib\\site-packages\\sklearn\\metrics\\_classification.py:1469: UndefinedMetricWarning: Precision and F-score are ill-defined and being set to 0.0 in labels with no predicted samples. Use `zero_division` parameter to control this behavior.\n",
      "  _warn_prf(average, modifier, msg_start, len(result))\n",
      "C:\\ProgramData\\anaconda3\\Lib\\site-packages\\sklearn\\metrics\\_classification.py:1469: UndefinedMetricWarning: Precision and F-score are ill-defined and being set to 0.0 in labels with no predicted samples. Use `zero_division` parameter to control this behavior.\n",
      "  _warn_prf(average, modifier, msg_start, len(result))\n",
      "C:\\ProgramData\\anaconda3\\Lib\\site-packages\\sklearn\\metrics\\_classification.py:1469: UndefinedMetricWarning: Precision and F-score are ill-defined and being set to 0.0 in labels with no predicted samples. Use `zero_division` parameter to control this behavior.\n",
      "  _warn_prf(average, modifier, msg_start, len(result))\n"
     ]
    },
    {
     "name": "stdout",
     "output_type": "stream",
     "text": [
      "Epochs: 1 | Train Loss: 0.490 | Train Accuracy: 0.219\n",
      "Val loss: 0.902 | Val Accuracy: 0.305\n",
      "BERT Classifier Accuracy: 0.3046594982078853\n",
      "              precision    recall  f1-score   support\n",
      "\n",
      "           0       0.00      0.00      0.00        43\n",
      "           1       0.23      1.00      0.38        31\n",
      "           2       0.40      0.11      0.17        38\n",
      "           3       0.38      0.32      0.35        28\n",
      "           4       0.00      0.00      0.00        39\n",
      "           5       0.58      0.19      0.29        37\n",
      "           6       0.39      0.61      0.47        31\n",
      "           7       0.29      0.47      0.36        32\n",
      "\n",
      "    accuracy                           0.30       279\n",
      "   macro avg       0.28      0.34      0.25       279\n",
      "weighted avg       0.27      0.30      0.23       279\n",
      "\n"
     ]
    },
    {
     "name": "stderr",
     "output_type": "stream",
     "text": [
      "100%|██████████| 306/306 [00:18<00:00, 16.12it/s]\n",
      "100%|██████████| 140/140 [00:01<00:00, 90.49it/s]\n"
     ]
    },
    {
     "name": "stdout",
     "output_type": "stream",
     "text": [
      "Epochs: 2 | Train Loss: 0.387 | Train Accuracy: 0.442\n",
      "Val loss: 0.734 | Val Accuracy: 0.452\n",
      "BERT Classifier Accuracy: 0.45161290322580644\n",
      "              precision    recall  f1-score   support\n",
      "\n",
      "           0       0.71      0.12      0.20        43\n",
      "           1       0.30      0.65      0.41        31\n",
      "           2       0.45      0.68      0.54        38\n",
      "           3       0.37      0.39      0.38        28\n",
      "           4       0.84      0.41      0.55        39\n",
      "           5       0.52      0.43      0.47        37\n",
      "           6       0.55      0.77      0.64        31\n",
      "           7       0.35      0.25      0.29        32\n",
      "\n",
      "    accuracy                           0.45       279\n",
      "   macro avg       0.51      0.46      0.44       279\n",
      "weighted avg       0.53      0.45      0.43       279\n",
      "\n"
     ]
    },
    {
     "name": "stderr",
     "output_type": "stream",
     "text": [
      "100%|██████████| 306/306 [00:19<00:00, 15.86it/s]\n",
      "100%|██████████| 140/140 [00:01<00:00, 91.57it/s]\n"
     ]
    },
    {
     "name": "stdout",
     "output_type": "stream",
     "text": [
      "Epochs: 3 | Train Loss: 0.259 | Train Accuracy: 0.663\n",
      "Val loss: 0.593 | Val Accuracy: 0.606\n",
      "BERT Classifier Accuracy: 0.6057347670250897\n",
      "              precision    recall  f1-score   support\n",
      "\n",
      "           0       0.63      0.56      0.59        43\n",
      "           1       0.62      0.48      0.55        31\n",
      "           2       0.60      0.71      0.65        38\n",
      "           3       0.57      0.43      0.49        28\n",
      "           4       0.72      0.87      0.79        39\n",
      "           5       0.53      0.57      0.55        37\n",
      "           6       0.61      0.74      0.67        31\n",
      "           7       0.50      0.41      0.45        32\n",
      "\n",
      "    accuracy                           0.61       279\n",
      "   macro avg       0.60      0.60      0.59       279\n",
      "weighted avg       0.60      0.61      0.60       279\n",
      "\n"
     ]
    },
    {
     "name": "stderr",
     "output_type": "stream",
     "text": [
      "100%|██████████| 306/306 [00:19<00:00, 15.74it/s]\n",
      "100%|██████████| 140/140 [00:01<00:00, 91.38it/s]"
     ]
    },
    {
     "name": "stdout",
     "output_type": "stream",
     "text": [
      "Epochs: 4 | Train Loss: 0.161 | Train Accuracy: 0.815\n",
      "Val loss: 0.575 | Val Accuracy: 0.649\n",
      "BERT Classifier Accuracy: 0.6487455197132617\n",
      "              precision    recall  f1-score   support\n",
      "\n",
      "           0       0.67      0.65      0.66        43\n",
      "           1       0.64      0.68      0.66        31\n",
      "           2       0.59      0.63      0.61        38\n",
      "           3       0.52      0.54      0.53        28\n",
      "           4       0.86      0.77      0.81        39\n",
      "           5       0.61      0.73      0.67        37\n",
      "           6       0.69      0.71      0.70        31\n",
      "           7       0.61      0.44      0.51        32\n",
      "\n",
      "    accuracy                           0.65       279\n",
      "   macro avg       0.65      0.64      0.64       279\n",
      "weighted avg       0.65      0.65      0.65       279\n",
      "\n"
     ]
    },
    {
     "name": "stderr",
     "output_type": "stream",
     "text": [
      "\n"
     ]
    }
   ],
   "source": [
    "train_losses = []\n",
    "train_accuracies = []\n",
    "val_losses = []\n",
    "val_accuracies = []\n",
    "\n",
    "# Initialize BERT Classifier\n",
    "classifier = BertClassifier(num_classes=len(label_encoder.classes_))\n",
    "num_epochs = 4\n",
    "learning_rates = 2e-5\n",
    "\n",
    "# Train the model\n",
    "train_and_evaluate(classifier, train_dataset, test_dataset, learning_rate=learning_rates, epochs=num_epochs)"
   ]
  },
  {
   "cell_type": "markdown",
   "id": "a47272bc-d738-409f-a5eb-7b4739fcbd5c",
   "metadata": {},
   "source": [
    "## Plotting Training and Validation Metrics"
   ]
  },
  {
   "cell_type": "code",
   "execution_count": 20,
   "id": "7fbe4cbf-0f81-468d-8cd1-0f2820f84729",
   "metadata": {
    "tags": []
   },
   "outputs": [
    {
     "data": {
      "image/png": "[encoded data removed]",
      "text/plain": [
       "<Figure size 1200x600 with 2 Axes>"
      ]
     },
     "metadata": {},
     "output_type": "display_data"
    }
   ],
   "source": [
    "# Plotting\n",
    "plt.figure(figsize=(12, 6))\n",
    "\n",
    "# Loss plot\n",
    "plt.subplot(1, 2, 1)\n",
    "plt.plot(range(1, num_epochs + 1), train_losses, label='Train Loss')\n",
    "plt.plot(range(1, num_epochs + 1), val_losses, label='Validation Loss')\n",
    "plt.xlabel('Epochs')\n",
    "plt.ylabel('Loss')\n",
    "plt.title('Training and Validation Loss')\n",
    "plt.legend()\n",
    "\n",
    "# Accuracy plot\n",
    "plt.subplot(1, 2, 2)\n",
    "plt.plot(range(1, num_epochs + 1), train_accuracies, label='Train Accuracy')\n",
    "plt.plot(range(1, num_epochs + 1), val_accuracies, label='Validation Accuracy')\n",
    "plt.xlabel('Epochs')\n",
    "plt.ylabel('Accuracy')\n",
    "plt.title('Training and Validation Accuracy')\n",
    "plt.legend()\n",
    "\n",
    "plt.tight_layout()\n",
    "plt.show()\n"
   ]
  },
  {
   "cell_type": "code",
   "execution_count": null,
   "id": "908ae6dc-299c-4221-b79f-4dd32c9c0f61",
   "metadata": {},
   "outputs": [],
   "source": []
  }
 ],
 "metadata": {
  "kernelspec": {
   "display_name": "Python 3 (ipykernel)",
   "language": "python",
   "name": "python3"
  },
  "language_info": {
   "codemirror_mode": {
    "name": "ipython",
    "version": 3
   },
   "file_extension": ".py",
   "mimetype": "text/x-python",
   "name": "python",
   "nbconvert_exporter": "python",
   "pygments_lexer": "ipython3",
   "version": "3.11.4"
  }
 },
 "nbformat": 4,
 "nbformat_minor": 5
}
